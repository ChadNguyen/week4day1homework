{
 "cells": [
  {
   "cell_type": "markdown",
   "metadata": {},
   "source": [
    "# Classic Algorithms"
   ]
  },
  {
   "cell_type": "markdown",
   "metadata": {},
   "source": [
    "## Tasks Today:\n",
    " \n",
    "1) <b>In-Place Algorithms</b> <br>\n",
    " &nbsp;&nbsp;&nbsp;&nbsp; a) Syntax <br>\n",
    " &nbsp;&nbsp;&nbsp;&nbsp; a) Out of Place Algorithm <br>\n",
    " &nbsp;&nbsp;&nbsp;&nbsp; b) In-Class Exercise #1 <br>\n",
    "2) <b>Two Pointers</b> <br>\n",
    "3) <b>Sorting Algorithms</b> <br>\n",
    "4) <b>Merge Sort</b> <br>\n",
    " &nbsp;&nbsp;&nbsp;&nbsp; a) Video on Algorithms <br>\n",
    " &nbsp;&nbsp;&nbsp;&nbsp; b) How it Works <br>\n",
    "5) <b>Exercises</b> <br>\n",
    " &nbsp;&nbsp;&nbsp;&nbsp; a) Exercise #1 - Reverse a List in Place Using an In-Place Algorithm <br>\n",
    " &nbsp;&nbsp;&nbsp;&nbsp; b) Exercise #2 - Find Distinct Words <br>\n",
    " &nbsp;&nbsp;&nbsp;&nbsp; c) Exercise #3 - Write a program to implement a Linear Search Algorithm. <br>"
   ]
  },
  {
   "cell_type": "markdown",
   "metadata": {},
   "source": [
    "## In-Place Algorithms"
   ]
  },
  {
   "cell_type": "markdown",
   "metadata": {},
   "source": [
    "#### Syntax"
   ]
  },
  {
   "cell_type": "code",
   "execution_count": 1,
   "metadata": {},
   "outputs": [
    {
     "data": {
      "text/plain": [
       "[1, 5, 3, 4, 2]"
      ]
     },
     "execution_count": 1,
     "metadata": {},
     "output_type": "execute_result"
    }
   ],
   "source": [
    "# An Algorithms that modifies an input parameter's value,\n",
    "# such that the changes inside of the algorithm function\n",
    "# reflect in the variable, outside of the function\n",
    "\n",
    "a_list = [1,2,3,4,5]\n",
    "\n",
    "def swap(input_list, i, j):\n",
    "    temp = input_list[i]\n",
    "    input_list[i] = input_list[j]\n",
    "    input_list[j] = temp\n",
    "\n",
    "    return input_list\n",
    "swap(a_list, 1, 4)"
   ]
  },
  {
   "cell_type": "code",
   "execution_count": 1,
   "metadata": {},
   "outputs": [
    {
     "name": "stdout",
     "output_type": "stream",
     "text": [
      "[[1, 2], 5, [6, 6]]\n"
     ]
    }
   ],
   "source": [
    "a_list = [[1,2],[3,4],[5,6]]\n",
    "\n",
    "def swap_sublist(input_list, inner_list, i, j):\n",
    "    temp = input_list[inner_list][i]\n",
    "    input_list[inner_list][i] = input_list[inner_list][j]\n",
    "    input_list[j] = temp\n",
    "swap_sublist(a_list, 2, 0, 1)\n",
    "print(a_list)"
   ]
  },
  {
   "cell_type": "markdown",
   "metadata": {},
   "source": [
    "#### Out of Place Algorithm"
   ]
  },
  {
   "cell_type": "code",
   "execution_count": 2,
   "metadata": {},
   "outputs": [
    {
     "name": "stdout",
     "output_type": "stream",
     "text": [
      "[1, 2, 3, 4, 5]\n",
      "[1, 5, 3, 2, 4]\n"
     ]
    }
   ],
   "source": [
    "a_list = [1,2,3,4,5]\n",
    "\n",
    "def swap(input_list, i, j,):\n",
    "    input_list = input_list[:]\n",
    "    input_list[i], input_list[j] =  input_list[j], input_list[i]\n",
    "\n",
    "    return input_list\n",
    "\n",
    "swapped_list = swap(a_list, 1, 4,)\n",
    "\n",
    "print(a_list)\n",
    "print(swapped_list)\n"
   ]
  },
  {
   "cell_type": "markdown",
   "metadata": {},
   "source": []
  },
  {
   "cell_type": "markdown",
   "metadata": {},
   "source": []
  },
  {
   "cell_type": "markdown",
   "metadata": {},
   "source": [
    "#### In-Class Exercise #1 <br>\n",
    "<p>Write a function that takes in four arguments (list, index1, index2, index3), and swaps those three positions in the list passed in.</p>"
   ]
  },
  {
   "cell_type": "code",
   "execution_count": 2,
   "metadata": {},
   "outputs": [
    {
     "name": "stdout",
     "output_type": "stream",
     "text": [
      "[1, 5, 3, 2, 4]\n",
      "[1, 5, 3, 2, 4]\n"
     ]
    }
   ],
   "source": [
    "a_list = [1,2,3,4,5]\n",
    "\n",
    "def swap_in(input_list, i, j, k):\n",
    "    input_list[j], input_list[i], input_list[k] =  input_list[k], input_list[j], input_list[i]\n",
    "    return input_list\n",
    "\n",
    "swapped_list = swap_in(a_list, 1, 4, 3)\n",
    "print(swapped_list)\n",
    "print(a_list)\n",
    "\n"
   ]
  },
  {
   "cell_type": "code",
   "execution_count": 3,
   "metadata": {},
   "outputs": [
    {
     "name": "stdout",
     "output_type": "stream",
     "text": [
      "[1, 4, 3, 5, 2]\n",
      "[1, 4, 3, 5, 2]\n"
     ]
    }
   ],
   "source": [
    "a_list = [1,2,3,4,5]\n",
    "\n",
    "def swap_out(input_list, i, j, k):\n",
    "    input_list = input_list[:]\n",
    "    input_list[i], input_list[j], input_list[k] =  input_list[k], input_list[i], input_list[j]\n",
    "    return input_list\n",
    "\n",
    "swapped_list = swap_out(a_list, 1, 4, 3)\n",
    "print(swap_out(a_list, 1, 4, 3))\n",
    "print(swap_out(a_list, 1, 4, 3))"
   ]
  },
  {
   "cell_type": "markdown",
   "metadata": {},
   "source": [
    "## Two Pointers"
   ]
  },
  {
   "cell_type": "markdown",
   "metadata": {},
   "source": [
    "#### Syntax"
   ]
  },
  {
   "cell_type": "code",
   "execution_count": 2,
   "metadata": {},
   "outputs": [],
   "source": [
    "# Reverse a list\n",
    "a_list = [1,2,3,4,5]\n",
    "    #    [5,2,3,4,1] 1st iteration\n",
    "    #    [5,4,3,2,1] 2nd iteration\n",
    "\n",
    "a_list = [1,2,3,4,5]\n",
    "def reverse(a_list):\n",
    "    left = 0\n",
    "    right = len(a_list) - 1\n",
    "\n",
    "    while left <= right:\n",
    "        a_list[left], a_list[right] = a_list[right], a_list[left]\n",
    "        left += 1\n",
    "        right -= 1\n",
    "\n",
    "    return a_list"
   ]
  },
  {
   "cell_type": "code",
   "execution_count": 3,
   "metadata": {},
   "outputs": [
    {
     "name": "stdout",
     "output_type": "stream",
     "text": [
      "[5, 4, 3, 2, 1]\n"
     ]
    }
   ],
   "source": [
    "print(reverse(a_list))"
   ]
  },
  {
   "cell_type": "code",
   "execution_count": null,
   "metadata": {},
   "outputs": [],
   "source": [
    "# The two sum problem is stated as follows: given an unsorted list and a number target, \n",
    "# the pair of numbers in that list such that their sum equals target.\n",
    "# For example, if the list is [3,5,2,−4,8,] and the value of target is 7, \n",
    "# then the program should return pair (2,5) since  and 2+5 are equal to 7.\n",
    "\n",
    "def two_sum(a_list, target):\n",
    "    pass\n",
    "\n",
    "two_sum([3,5,2,-4,8], 7) # Should return [2, 5]\n",
    "    #   [8,-4,2,5,3] reverse \n",
    "    #   [-4,2,3,5,8] sort"
   ]
  },
  {
   "cell_type": "code",
   "execution_count": 64,
   "metadata": {},
   "outputs": [
    {
     "name": "stdout",
     "output_type": "stream",
     "text": [
      "[2, 5]\n"
     ]
    }
   ],
   "source": [
    "def two_sum(a_list, target):\n",
    "    a_list.sort()\n",
    "    for i in range(len(a_list)):\n",
    "        for j in range(i + 1, len(a_list)):\n",
    "            if a_list[i] + a_list[j] == target:\n",
    "                return [a_list[i],a_list[j]]\n",
    "                \n",
    "print(two_sum([3,5,2,-4,8], 7))"
   ]
  },
  {
   "cell_type": "code",
   "execution_count": 65,
   "metadata": {},
   "outputs": [
    {
     "name": "stdout",
     "output_type": "stream",
     "text": [
      "[2, 5]\n"
     ]
    }
   ],
   "source": [
    "def two_sum(a_list, target):\n",
    "    number_dict = {}\n",
    "\n",
    "    for i in range(len(a_list)):\n",
    "        if target - a_list[i] in number_dict:\n",
    "            return [a_list[i], target - a_list[i]]\n",
    "\n",
    "        number_dict[a_list[i]] = i\n",
    "        \n",
    "print(two_sum([3,5,2,-4,8], 7))"
   ]
  },
  {
   "cell_type": "code",
   "execution_count": 69,
   "metadata": {},
   "outputs": [
    {
     "data": {
      "text/plain": [
       "[[2, 5]]"
      ]
     },
     "execution_count": 69,
     "metadata": {},
     "output_type": "execute_result"
    }
   ],
   "source": [
    "def two_sum(a_list, target):\n",
    "    number_list = {}\n",
    "    sum = []\n",
    "    a_list.sort()\n",
    "    for index, value in enumerate(a_list):\n",
    "        if value in number_list:\n",
    "            sum.append([a_list[number_list[value]], a_list[index]])\n",
    "        number_list[target - value] = index\n",
    "    return sum\n",
    "\n",
    "two_sum([3,5,2,-4,8], 7)"
   ]
  },
  {
   "cell_type": "code",
   "execution_count": null,
   "metadata": {},
   "outputs": [],
   "source": []
  },
  {
   "cell_type": "markdown",
   "metadata": {},
   "source": [
    "#### Video of Algorithms <br>\n",
    "<p>Watch the video about algorithms.</p>\n",
    "\n",
    "https://www.youtube.com/watch?v=Q9HjeFD62Uk\n",
    "\n",
    "https://www.youtube.com/watch?v=kPRA0W1kECg\n",
    "\n",
    "https://www.youtube.com/watch?v=ZZuD6iUe3Pc"
   ]
  },
  {
   "cell_type": "markdown",
   "metadata": {},
   "source": [
    "# Sorting Algorithms"
   ]
  },
  {
   "cell_type": "markdown",
   "metadata": {},
   "source": [
    "#### Bubble Sort\n",
    "\n",
    "Worst Case: O(n^2) Time - O(1) Space"
   ]
  },
  {
   "cell_type": "code",
   "execution_count": 3,
   "metadata": {},
   "outputs": [
    {
     "data": {
      "text/plain": [
       "[12, 55, 66]"
      ]
     },
     "execution_count": 3,
     "metadata": {},
     "output_type": "execute_result"
    }
   ],
   "source": [
    "# Define an index i at 0, and an index j at i + 1\n",
    "# create a while loop, that runs until the list is sorted\n",
    "# Compare the values at i and j to see if the value at i is greater than j\n",
    "# if it is, swap the values. If it is not, leave the values alone.\n",
    "# increment i and j, until j is greater than the index of the last unsorted element\n",
    "# reset i and j to the beginning\n",
    "# If we go through the entire list and do not swap any elements, the list is sorted\n",
    "# and we can exit the loop\n",
    "\n",
    "def bubble_sort(a_list):\n",
    "    i, j = 0, 1\n",
    "    last_unsorted = len(a_list)\n",
    "    is_sorted = False\n",
    "\n",
    "    while not is_sorted:\n",
    "        is_sorted = True\n",
    "        while j < last_unsorted:\n",
    "            if a_list[i] > a_list[j]:\n",
    "                #swap items\n",
    "                a_list[i], a_list[j] = a_list[j], a_list[i]\n",
    "                is_sorted = False\n",
    "\n",
    "            i += 1\n",
    "            j += 1\n",
    "\n",
    "        last_unsorted = j - 1\n",
    "        i = 0\n",
    "        j = 1\n",
    "\n",
    "    return a_list\n",
    "\n",
    "bubble_sort([55,66,12])\n"
   ]
  },
  {
   "cell_type": "markdown",
   "metadata": {},
   "source": [
    "##### Insertion Sort\n",
    "\n",
    "Worst Case: O(n^2) time - O(1)space"
   ]
  },
  {
   "cell_type": "code",
   "execution_count": 96,
   "metadata": {},
   "outputs": [
    {
     "data": {
      "text/plain": [
       "[1, 2, 3, 4, 5, 6, 7, 8, 9, 10]"
      ]
     },
     "execution_count": 96,
     "metadata": {},
     "output_type": "execute_result"
    }
   ],
   "source": [
    "# Define an index i at 0, and an index j at i + 1\n",
    "# create a while loop, that runs until the list is sorted\n",
    "# Compare the values at i and j to see if the value at i is greater than j\n",
    "# if it is, swap the values. If it is not, leave the values alone.\n",
    "# increment i and j, until j is greater than the index of the last unsorted element\n",
    "# reset i and j to the beginning\n",
    "# If we go through the entire list and do not swap any elements, the list is sorted\n",
    "# and we can exit the loop\n",
    "def bubble_sort(a_list):\n",
    "    i, j = 0, 1\n",
    "    last_unsorted = len(a_list)\n",
    "    is_sorted = False\n",
    "    while not is_sorted:\n",
    "        is_sorted = True\n",
    "        while j < last_unsorted:\n",
    "            if a_list[i] > a_list[j]:\n",
    "                #swap items\n",
    "                a_list[i], a_list[j] = a_list[j], a_list[i]\n",
    "                is_sorted = False\n",
    "            i += 1\n",
    "            j += 1\n",
    "        last_unsorted = j - 1\n",
    "        i = 0\n",
    "        j = 1\n",
    "    return a_list\n",
    "bubble_sort([1,10,6,7,4,9,8,5,2,3])"
   ]
  },
  {
   "cell_type": "code",
   "execution_count": 97,
   "metadata": {},
   "outputs": [
    {
     "data": {
      "text/plain": [
       "[1, 2, 3, 4, 5, 6, 7, 8, 9, 10]"
      ]
     },
     "execution_count": 97,
     "metadata": {},
     "output_type": "execute_result"
    }
   ],
   "source": [
    "# To sort an array(list) of size N in ascending order\n",
    "# Iterate from array[1] to array[N] over the array. \n",
    "# Compare the current element (num) to its predecessor. \n",
    "# If the (num) element is smaller than its predecessor, compare it to the elements before.\n",
    "# Move the greater elements one position up to make space for the swapped element.\n",
    "## similiar to playing cards ##\n",
    "def insertion_sort(a_list):\n",
    "    i = 1\n",
    "    last_unsorted = len(a_list)\n",
    "    is_sorted = False\n",
    "    while not is_sorted:\n",
    "        is_sorted = True\n",
    "        i = 1\n",
    "        while i < last_unsorted:\n",
    "            j = i - 1\n",
    "            while j >= 0 and a_list[j] > a_list[j + 1]:\n",
    "                a_list[j + 1], a_list[j] = a_list[j], a_list[j + 1]\n",
    "                j -= 1\n",
    "                is_sorted = False\n",
    "            i += 1\n",
    "        last_unsorted -= 1\n",
    "    return a_list\n",
    "insertion_sort([1,10,6,7,4,9,8,5,2,3])\n",
    "\n"
   ]
  },
  {
   "cell_type": "markdown",
   "metadata": {},
   "source": [
    "## Merge Sort"
   ]
  },
  {
   "cell_type": "markdown",
   "metadata": {},
   "source": [
    "#### How it Works"
   ]
  },
  {
   "cell_type": "code",
   "execution_count": null,
   "metadata": {},
   "outputs": [],
   "source": []
  },
  {
   "cell_type": "markdown",
   "metadata": {},
   "source": [
    "## Binary Search Trees"
   ]
  },
  {
   "cell_type": "code",
   "execution_count": null,
   "metadata": {},
   "outputs": [],
   "source": []
  },
  {
   "cell_type": "markdown",
   "metadata": {},
   "source": [
    "#### In Class Assignment Level Master:\n",
    "invert the binary tree (Reverse it)"
   ]
  },
  {
   "cell_type": "code",
   "execution_count": null,
   "metadata": {},
   "outputs": [],
   "source": []
  },
  {
   "cell_type": "markdown",
   "metadata": {},
   "source": [
    "# Exercises"
   ]
  },
  {
   "cell_type": "markdown",
   "metadata": {},
   "source": [
    "### Exercise #1 <br>\n",
    "<p>Reverse the list below in-place using an in-place algorithm.<br>For extra credit: Reverse the strings at the same time.</p>"
   ]
  },
  {
   "cell_type": "code",
   "execution_count": null,
   "metadata": {},
   "outputs": [],
   "source": [
    "#for i in a_list:\n",
    "#        return i [::-1]\n",
    "#Is what I used for reversing a string in a code wars"
   ]
  },
  {
   "cell_type": "code",
   "execution_count": 87,
   "metadata": {},
   "outputs": [
    {
     "name": "stdout",
     "output_type": "stream",
     "text": [
      "['.', 'sentence', 'a', 'is', 'this']\n"
     ]
    }
   ],
   "source": [
    "words = ['this' , 'is', 'a', 'sentence', '.']\n",
    "\n",
    "def reverse_list(words):\n",
    "    l = len(words)\n",
    "    if l <= 2:\n",
    "        words[0], words[-1] = words[-1], words[0]\n",
    "    return words [::-1]\n",
    "\n",
    "words = ['this' , 'is', 'a', 'sentence', '.']\n",
    "print(reverse_list(words))\n"
   ]
  },
  {
   "cell_type": "code",
   "execution_count": 95,
   "metadata": {},
   "outputs": [
    {
     "name": "stdout",
     "output_type": "stream",
     "text": [
      "['.', 'sentence', 'a', 'is', 'this']\n"
     ]
    }
   ],
   "source": [
    "def reverse(a_list):\n",
    "    left = 0\n",
    "    right = len(a_list) - 1\n",
    "    \n",
    "    while left <= right:\n",
    "        a_list[left], a_list[right] = a_list[right], a_list[left]\n",
    "        left += 1\n",
    "        right -= 1\n",
    "        \n",
    "    return a_list [::-1]\n",
    "\n",
    "print(reverse(words))\n"
   ]
  },
  {
   "cell_type": "markdown",
   "metadata": {},
   "source": [
    "### Exercise #2 <br>\n",
    "<p>Create a function that counts how many distinct words are in the string below, then outputs a dictionary with the words as the key and the value as the amount of times that word appears in the string.<br>Should output:<br>{'a': 5,<br>\n",
    " 'abstract': 1,<br>\n",
    " 'an': 3,<br>\n",
    " 'array': 2, ... etc...</p>"
   ]
  },
  {
   "cell_type": "code",
   "execution_count": 68,
   "metadata": {},
   "outputs": [
    {
     "name": "stdout",
     "output_type": "stream",
     "text": [
      "{'In': 1, 'computing,': 1, 'a': 4, 'hash': 4, 'table': 2, 'map': 2, 'is': 1, 'data': 2, 'structure': 2, 'which': 2, 'implements': 1, 'an': 3, 'associative': 1, 'array': 2, 'abstract': 1, 'type,': 1, 'that': 1, 'can': 2, 'keys': 1, 'to': 2, 'values.': 1, 'A': 1, 'uses': 1, 'function': 1, 'compute': 1, 'index': 1, 'into': 1, 'of': 1, 'buckets': 1, 'or': 1, 'slots': 1, 'from': 1, 'the': 1, 'desired': 1, 'value': 1, 'be': 1, 'found': 1}\n"
     ]
    }
   ],
   "source": [
    "def string_count():\n",
    "    a_text = 'In computing, a hash table hash map is a data structure which implements an associative array abstract data type, a structure that can map keys to values. A hash table uses a hash function to compute an index into an array of buckets or slots from which the desired value can be found'\n",
    "    count = {}\n",
    "    a_text = a_text.split()\n",
    "    for word in a_text:\n",
    "        if word in count:\n",
    "            count[word] += 1\n",
    "        else:\n",
    "            count[word] = 1\n",
    "    return count \n",
    "print(string_count())\n",
    "\n"
   ]
  },
  {
   "cell_type": "code",
   "execution_count": 76,
   "metadata": {},
   "outputs": [
    {
     "name": "stdout",
     "output_type": "stream",
     "text": [
      "{'In': 1, 'computing,': 1, 'a': 4, 'hash': 4, 'table': 2, 'map': 2, 'is': 1, 'data': 2, 'structure': 2, 'which': 2, 'implements': 1, 'an': 3, 'associative': 1, 'array': 2, 'abstract': 1, 'type,': 1, 'that': 1, 'can': 2, 'keys': 1, 'to': 2, 'values.': 1, 'A': 1, 'uses': 1, 'function': 1, 'compute': 1, 'index': 1, 'into': 1, 'of': 1, 'buckets': 1, 'or': 1, 'slots': 1, 'from': 1, 'the': 1, 'desired': 1, 'value': 1, 'be': 1, 'found': 1}\n"
     ]
    }
   ],
   "source": [
    "a_text = 'In computing, a hash table hash map is a data structure which implements an associative array abstract data type, a structure that can map keys to values. A hash table uses a hash function to compute an index into an array of buckets or slots from which the desired value can be found'\n",
    "def string_count(a_text):\n",
    "    count = {}\n",
    "    a_text = a_text.split()\n",
    "    for word in a_text:\n",
    "        if word in count:\n",
    "            count[word] += 1\n",
    "        else:\n",
    "            count[word] = 1\n",
    "    return count\n",
    "print(string_count(a_text))\n"
   ]
  },
  {
   "cell_type": "markdown",
   "metadata": {},
   "source": [
    "## Exercise #3\n",
    "\n",
    "Write a program to implement a Linear Search Algorithm. Also in a comment, write the Time Complexity of the following algorithm.\n",
    "\n",
    "#### Hint: Linear Searching will require searching a list for a given number. "
   ]
  },
  {
   "cell_type": "code",
   "execution_count": 108,
   "metadata": {},
   "outputs": [
    {
     "name": "stdout",
     "output_type": "stream",
     "text": [
      "70\n"
     ]
    }
   ],
   "source": [
    "nums_list = [10,23,45,70,11,15]\n",
    "target = 70\n",
    "                             #70\n",
    "def linear_search(nums_list, target):\n",
    "    for i in range(len(nums_list)):\n",
    "        if nums_list[i] == target: #70\n",
    "            return nums_list[i] #70 index pos 3\n",
    "    return -1   # If number is not present return -1\n",
    "\n",
    "                   # 0, 1, 2, 3, 4, 5\n",
    "print(linear_search([10,23,45,70,11,15], 70))\n",
    "# If number is not present return -1\n",
    "            "
   ]
  }
 ],
 "metadata": {
  "kernelspec": {
   "display_name": "base",
   "language": "python",
   "name": "python3"
  },
  "language_info": {
   "codemirror_mode": {
    "name": "ipython",
    "version": 3
   },
   "file_extension": ".py",
   "mimetype": "text/x-python",
   "name": "python",
   "nbconvert_exporter": "python",
   "pygments_lexer": "ipython3",
   "version": "3.9.13"
  },
  "vscode": {
   "interpreter": {
    "hash": "ad2bdc8ecc057115af97d19610ffacc2b4e99fae6737bb82f5d7fb13d2f2c186"
   }
  }
 },
 "nbformat": 4,
 "nbformat_minor": 2
}
